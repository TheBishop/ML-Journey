{
 "cells": [
  {
   "cell_type": "code",
   "execution_count": 1,
   "id": "f88efdba",
   "metadata": {},
   "outputs": [],
   "source": [
    "import matplotlib.pyplot as plt\n",
    "import pandas as pd"
   ]
  },
  {
   "cell_type": "code",
   "execution_count": 2,
   "id": "3f2f09f4",
   "metadata": {},
   "outputs": [
    {
     "data": {
      "text/html": [
       "<div>\n",
       "<style scoped>\n",
       "    .dataframe tbody tr th:only-of-type {\n",
       "        vertical-align: middle;\n",
       "    }\n",
       "\n",
       "    .dataframe tbody tr th {\n",
       "        vertical-align: top;\n",
       "    }\n",
       "\n",
       "    .dataframe thead th {\n",
       "        text-align: right;\n",
       "    }\n",
       "</style>\n",
       "<table border=\"1\" class=\"dataframe\">\n",
       "  <thead>\n",
       "    <tr style=\"text-align: right;\">\n",
       "      <th></th>\n",
       "      <th>City Name</th>\n",
       "      <th>Type</th>\n",
       "      <th>Package</th>\n",
       "      <th>Variety</th>\n",
       "      <th>Sub Variety</th>\n",
       "      <th>Grade</th>\n",
       "      <th>Date</th>\n",
       "      <th>Low Price</th>\n",
       "      <th>High Price</th>\n",
       "      <th>Mostly Low</th>\n",
       "      <th>...</th>\n",
       "      <th>Unit of Sale</th>\n",
       "      <th>Quality</th>\n",
       "      <th>Condition</th>\n",
       "      <th>Appearance</th>\n",
       "      <th>Storage</th>\n",
       "      <th>Crop</th>\n",
       "      <th>Repack</th>\n",
       "      <th>Trans Mode</th>\n",
       "      <th>Unnamed: 24</th>\n",
       "      <th>Unnamed: 25</th>\n",
       "    </tr>\n",
       "  </thead>\n",
       "  <tbody>\n",
       "    <tr>\n",
       "      <th>0</th>\n",
       "      <td>BALTIMORE</td>\n",
       "      <td>NaN</td>\n",
       "      <td>24 inch bins</td>\n",
       "      <td>NaN</td>\n",
       "      <td>NaN</td>\n",
       "      <td>NaN</td>\n",
       "      <td>4/29/17</td>\n",
       "      <td>270.0</td>\n",
       "      <td>280.0</td>\n",
       "      <td>270.0</td>\n",
       "      <td>...</td>\n",
       "      <td>NaN</td>\n",
       "      <td>NaN</td>\n",
       "      <td>NaN</td>\n",
       "      <td>NaN</td>\n",
       "      <td>NaN</td>\n",
       "      <td>NaN</td>\n",
       "      <td>E</td>\n",
       "      <td>NaN</td>\n",
       "      <td>NaN</td>\n",
       "      <td>NaN</td>\n",
       "    </tr>\n",
       "    <tr>\n",
       "      <th>1</th>\n",
       "      <td>BALTIMORE</td>\n",
       "      <td>NaN</td>\n",
       "      <td>24 inch bins</td>\n",
       "      <td>NaN</td>\n",
       "      <td>NaN</td>\n",
       "      <td>NaN</td>\n",
       "      <td>5/6/17</td>\n",
       "      <td>270.0</td>\n",
       "      <td>280.0</td>\n",
       "      <td>270.0</td>\n",
       "      <td>...</td>\n",
       "      <td>NaN</td>\n",
       "      <td>NaN</td>\n",
       "      <td>NaN</td>\n",
       "      <td>NaN</td>\n",
       "      <td>NaN</td>\n",
       "      <td>NaN</td>\n",
       "      <td>E</td>\n",
       "      <td>NaN</td>\n",
       "      <td>NaN</td>\n",
       "      <td>NaN</td>\n",
       "    </tr>\n",
       "    <tr>\n",
       "      <th>2</th>\n",
       "      <td>BALTIMORE</td>\n",
       "      <td>NaN</td>\n",
       "      <td>24 inch bins</td>\n",
       "      <td>HOWDEN TYPE</td>\n",
       "      <td>NaN</td>\n",
       "      <td>NaN</td>\n",
       "      <td>9/24/16</td>\n",
       "      <td>160.0</td>\n",
       "      <td>160.0</td>\n",
       "      <td>160.0</td>\n",
       "      <td>...</td>\n",
       "      <td>NaN</td>\n",
       "      <td>NaN</td>\n",
       "      <td>NaN</td>\n",
       "      <td>NaN</td>\n",
       "      <td>NaN</td>\n",
       "      <td>NaN</td>\n",
       "      <td>N</td>\n",
       "      <td>NaN</td>\n",
       "      <td>NaN</td>\n",
       "      <td>NaN</td>\n",
       "    </tr>\n",
       "    <tr>\n",
       "      <th>3</th>\n",
       "      <td>BALTIMORE</td>\n",
       "      <td>NaN</td>\n",
       "      <td>24 inch bins</td>\n",
       "      <td>HOWDEN TYPE</td>\n",
       "      <td>NaN</td>\n",
       "      <td>NaN</td>\n",
       "      <td>9/24/16</td>\n",
       "      <td>160.0</td>\n",
       "      <td>160.0</td>\n",
       "      <td>160.0</td>\n",
       "      <td>...</td>\n",
       "      <td>NaN</td>\n",
       "      <td>NaN</td>\n",
       "      <td>NaN</td>\n",
       "      <td>NaN</td>\n",
       "      <td>NaN</td>\n",
       "      <td>NaN</td>\n",
       "      <td>N</td>\n",
       "      <td>NaN</td>\n",
       "      <td>NaN</td>\n",
       "      <td>NaN</td>\n",
       "    </tr>\n",
       "    <tr>\n",
       "      <th>4</th>\n",
       "      <td>BALTIMORE</td>\n",
       "      <td>NaN</td>\n",
       "      <td>24 inch bins</td>\n",
       "      <td>HOWDEN TYPE</td>\n",
       "      <td>NaN</td>\n",
       "      <td>NaN</td>\n",
       "      <td>11/5/16</td>\n",
       "      <td>90.0</td>\n",
       "      <td>100.0</td>\n",
       "      <td>90.0</td>\n",
       "      <td>...</td>\n",
       "      <td>NaN</td>\n",
       "      <td>NaN</td>\n",
       "      <td>NaN</td>\n",
       "      <td>NaN</td>\n",
       "      <td>NaN</td>\n",
       "      <td>NaN</td>\n",
       "      <td>N</td>\n",
       "      <td>NaN</td>\n",
       "      <td>NaN</td>\n",
       "      <td>NaN</td>\n",
       "    </tr>\n",
       "  </tbody>\n",
       "</table>\n",
       "<p>5 rows × 26 columns</p>\n",
       "</div>"
      ],
      "text/plain": [
       "   City Name Type       Package      Variety Sub Variety  Grade     Date  \\\n",
       "0  BALTIMORE  NaN  24 inch bins          NaN         NaN    NaN  4/29/17   \n",
       "1  BALTIMORE  NaN  24 inch bins          NaN         NaN    NaN   5/6/17   \n",
       "2  BALTIMORE  NaN  24 inch bins  HOWDEN TYPE         NaN    NaN  9/24/16   \n",
       "3  BALTIMORE  NaN  24 inch bins  HOWDEN TYPE         NaN    NaN  9/24/16   \n",
       "4  BALTIMORE  NaN  24 inch bins  HOWDEN TYPE         NaN    NaN  11/5/16   \n",
       "\n",
       "   Low Price  High Price  Mostly Low  ...  Unit of Sale Quality Condition  \\\n",
       "0      270.0       280.0       270.0  ...           NaN     NaN       NaN   \n",
       "1      270.0       280.0       270.0  ...           NaN     NaN       NaN   \n",
       "2      160.0       160.0       160.0  ...           NaN     NaN       NaN   \n",
       "3      160.0       160.0       160.0  ...           NaN     NaN       NaN   \n",
       "4       90.0       100.0        90.0  ...           NaN     NaN       NaN   \n",
       "\n",
       "  Appearance Storage  Crop Repack  Trans Mode  Unnamed: 24  Unnamed: 25  \n",
       "0        NaN     NaN   NaN      E         NaN          NaN          NaN  \n",
       "1        NaN     NaN   NaN      E         NaN          NaN          NaN  \n",
       "2        NaN     NaN   NaN      N         NaN          NaN          NaN  \n",
       "3        NaN     NaN   NaN      N         NaN          NaN          NaN  \n",
       "4        NaN     NaN   NaN      N         NaN          NaN          NaN  \n",
       "\n",
       "[5 rows x 26 columns]"
      ]
     },
     "execution_count": 2,
     "metadata": {},
     "output_type": "execute_result"
    }
   ],
   "source": [
    "df = pd.read_csv('US-pumpkins.csv')\n",
    "df.head()"
   ]
  },
  {
   "cell_type": "code",
   "execution_count": 3,
   "id": "2afd9efd",
   "metadata": {},
   "outputs": [
    {
     "data": {
      "text/plain": [
       "City Name             0\n",
       "Type               1712\n",
       "Package               0\n",
       "Variety               5\n",
       "Sub Variety        1461\n",
       "Grade              1757\n",
       "Date                  0\n",
       "Low Price             0\n",
       "High Price            0\n",
       "Mostly Low          103\n",
       "Mostly High         103\n",
       "Origin                3\n",
       "Origin District    1626\n",
       "Item Size           279\n",
       "Color               616\n",
       "Environment        1757\n",
       "Unit of Sale       1595\n",
       "Quality            1757\n",
       "Condition          1757\n",
       "Appearance         1757\n",
       "Storage            1757\n",
       "Crop               1757\n",
       "Repack                0\n",
       "Trans Mode         1757\n",
       "Unnamed: 24        1757\n",
       "Unnamed: 25        1654\n",
       "dtype: int64"
      ]
     },
     "execution_count": 3,
     "metadata": {},
     "output_type": "execute_result"
    }
   ],
   "source": [
    "df.isnull().sum()"
   ]
  },
  {
   "cell_type": "code",
   "execution_count": 4,
   "id": "cc5181ed",
   "metadata": {},
   "outputs": [
    {
     "data": {
      "text/html": [
       "<div>\n",
       "<style scoped>\n",
       "    .dataframe tbody tr th:only-of-type {\n",
       "        vertical-align: middle;\n",
       "    }\n",
       "\n",
       "    .dataframe tbody tr th {\n",
       "        vertical-align: top;\n",
       "    }\n",
       "\n",
       "    .dataframe thead th {\n",
       "        text-align: right;\n",
       "    }\n",
       "</style>\n",
       "<table border=\"1\" class=\"dataframe\">\n",
       "  <thead>\n",
       "    <tr style=\"text-align: right;\">\n",
       "      <th></th>\n",
       "      <th>Package</th>\n",
       "      <th>Date</th>\n",
       "      <th>Low Price</th>\n",
       "      <th>High Price</th>\n",
       "    </tr>\n",
       "  </thead>\n",
       "  <tbody>\n",
       "    <tr>\n",
       "      <th>0</th>\n",
       "      <td>24 inch bins</td>\n",
       "      <td>4/29/17</td>\n",
       "      <td>270.00</td>\n",
       "      <td>280.00</td>\n",
       "    </tr>\n",
       "    <tr>\n",
       "      <th>1</th>\n",
       "      <td>24 inch bins</td>\n",
       "      <td>5/6/17</td>\n",
       "      <td>270.00</td>\n",
       "      <td>280.00</td>\n",
       "    </tr>\n",
       "    <tr>\n",
       "      <th>2</th>\n",
       "      <td>24 inch bins</td>\n",
       "      <td>9/24/16</td>\n",
       "      <td>160.00</td>\n",
       "      <td>160.00</td>\n",
       "    </tr>\n",
       "    <tr>\n",
       "      <th>3</th>\n",
       "      <td>24 inch bins</td>\n",
       "      <td>9/24/16</td>\n",
       "      <td>160.00</td>\n",
       "      <td>160.00</td>\n",
       "    </tr>\n",
       "    <tr>\n",
       "      <th>4</th>\n",
       "      <td>24 inch bins</td>\n",
       "      <td>11/5/16</td>\n",
       "      <td>90.00</td>\n",
       "      <td>100.00</td>\n",
       "    </tr>\n",
       "    <tr>\n",
       "      <th>...</th>\n",
       "      <td>...</td>\n",
       "      <td>...</td>\n",
       "      <td>...</td>\n",
       "      <td>...</td>\n",
       "    </tr>\n",
       "    <tr>\n",
       "      <th>1752</th>\n",
       "      <td>22 lb cartons</td>\n",
       "      <td>9/30/16</td>\n",
       "      <td>14.75</td>\n",
       "      <td>14.75</td>\n",
       "    </tr>\n",
       "    <tr>\n",
       "      <th>1753</th>\n",
       "      <td>36 inch bins</td>\n",
       "      <td>9/26/16</td>\n",
       "      <td>275.00</td>\n",
       "      <td>275.00</td>\n",
       "    </tr>\n",
       "    <tr>\n",
       "      <th>1754</th>\n",
       "      <td>36 inch bins</td>\n",
       "      <td>9/27/16</td>\n",
       "      <td>275.00</td>\n",
       "      <td>275.00</td>\n",
       "    </tr>\n",
       "    <tr>\n",
       "      <th>1755</th>\n",
       "      <td>36 inch bins</td>\n",
       "      <td>9/28/16</td>\n",
       "      <td>275.00</td>\n",
       "      <td>275.00</td>\n",
       "    </tr>\n",
       "    <tr>\n",
       "      <th>1756</th>\n",
       "      <td>36 inch bins</td>\n",
       "      <td>9/29/16</td>\n",
       "      <td>275.00</td>\n",
       "      <td>275.00</td>\n",
       "    </tr>\n",
       "  </tbody>\n",
       "</table>\n",
       "<p>1757 rows × 4 columns</p>\n",
       "</div>"
      ],
      "text/plain": [
       "            Package     Date  Low Price  High Price\n",
       "0      24 inch bins  4/29/17     270.00      280.00\n",
       "1      24 inch bins   5/6/17     270.00      280.00\n",
       "2      24 inch bins  9/24/16     160.00      160.00\n",
       "3      24 inch bins  9/24/16     160.00      160.00\n",
       "4      24 inch bins  11/5/16      90.00      100.00\n",
       "...             ...      ...        ...         ...\n",
       "1752  22 lb cartons  9/30/16      14.75       14.75\n",
       "1753   36 inch bins  9/26/16     275.00      275.00\n",
       "1754   36 inch bins  9/27/16     275.00      275.00\n",
       "1755   36 inch bins  9/28/16     275.00      275.00\n",
       "1756   36 inch bins  9/29/16     275.00      275.00\n",
       "\n",
       "[1757 rows x 4 columns]"
      ]
     },
     "execution_count": 4,
     "metadata": {},
     "output_type": "execute_result"
    }
   ],
   "source": [
    "pumpkins = df.loc[:, ['Package', 'Date', 'Low Price', 'High Price']]\n",
    "pumpkins"
   ]
  },
  {
   "cell_type": "code",
   "execution_count": 5,
   "id": "ccdd2800",
   "metadata": {},
   "outputs": [],
   "source": [
    "pumpkins['Month'] = pd.DatetimeIndex(pumpkins['Date']).month\n",
    "pumpkins['Average_Price'] = (pumpkins['Low Price'] + pumpkins['High Price'])/2\n",
    "pumpkins.drop('Date', axis = 1)\n",
    "pumpkins = pumpkins[pumpkins['Package'].str.contains('bushel', case=True, regex=True)]"
   ]
  },
  {
   "cell_type": "code",
   "execution_count": 6,
   "id": "869271bc",
   "metadata": {},
   "outputs": [
    {
     "data": {
      "text/plain": [
       "<pandas.core.indexing._LocIndexer at 0x1df71894960>"
      ]
     },
     "execution_count": 6,
     "metadata": {},
     "output_type": "execute_result"
    }
   ],
   "source": [
    "pumpkins.loc"
   ]
  },
  {
   "cell_type": "code",
   "execution_count": 7,
   "id": "581b9b89",
   "metadata": {},
   "outputs": [],
   "source": [
    "pumpkins.loc[pumpkins['Package'].str.contains('1 1/9'), 'Average_Price'] = pumpkins['Average_Price']/(1 + 1/9)\n",
    "pumpkins.loc[pumpkins['Package'].str.contains('1/2'), 'Average_Price'] = pumpkins['Average_Price']/(1/2)"
   ]
  },
  {
   "cell_type": "code",
   "execution_count": 8,
   "id": "fa2b1379",
   "metadata": {},
   "outputs": [
    {
     "data": {
      "text/html": [
       "<div>\n",
       "<style scoped>\n",
       "    .dataframe tbody tr th:only-of-type {\n",
       "        vertical-align: middle;\n",
       "    }\n",
       "\n",
       "    .dataframe tbody tr th {\n",
       "        vertical-align: top;\n",
       "    }\n",
       "\n",
       "    .dataframe thead th {\n",
       "        text-align: right;\n",
       "    }\n",
       "</style>\n",
       "<table border=\"1\" class=\"dataframe\">\n",
       "  <thead>\n",
       "    <tr style=\"text-align: right;\">\n",
       "      <th></th>\n",
       "      <th>Package</th>\n",
       "      <th>Date</th>\n",
       "      <th>Low Price</th>\n",
       "      <th>High Price</th>\n",
       "      <th>Month</th>\n",
       "      <th>Average_Price</th>\n",
       "    </tr>\n",
       "  </thead>\n",
       "  <tbody>\n",
       "    <tr>\n",
       "      <th>70</th>\n",
       "      <td>1 1/9 bushel cartons</td>\n",
       "      <td>9/24/16</td>\n",
       "      <td>15.00</td>\n",
       "      <td>15.0</td>\n",
       "      <td>9</td>\n",
       "      <td>13.50</td>\n",
       "    </tr>\n",
       "    <tr>\n",
       "      <th>71</th>\n",
       "      <td>1 1/9 bushel cartons</td>\n",
       "      <td>9/24/16</td>\n",
       "      <td>18.00</td>\n",
       "      <td>18.0</td>\n",
       "      <td>9</td>\n",
       "      <td>16.20</td>\n",
       "    </tr>\n",
       "    <tr>\n",
       "      <th>72</th>\n",
       "      <td>1 1/9 bushel cartons</td>\n",
       "      <td>10/1/16</td>\n",
       "      <td>18.00</td>\n",
       "      <td>18.0</td>\n",
       "      <td>10</td>\n",
       "      <td>16.20</td>\n",
       "    </tr>\n",
       "    <tr>\n",
       "      <th>73</th>\n",
       "      <td>1 1/9 bushel cartons</td>\n",
       "      <td>10/1/16</td>\n",
       "      <td>17.00</td>\n",
       "      <td>17.0</td>\n",
       "      <td>10</td>\n",
       "      <td>15.30</td>\n",
       "    </tr>\n",
       "    <tr>\n",
       "      <th>74</th>\n",
       "      <td>1 1/9 bushel cartons</td>\n",
       "      <td>10/8/16</td>\n",
       "      <td>15.00</td>\n",
       "      <td>15.0</td>\n",
       "      <td>10</td>\n",
       "      <td>13.50</td>\n",
       "    </tr>\n",
       "    <tr>\n",
       "      <th>...</th>\n",
       "      <td>...</td>\n",
       "      <td>...</td>\n",
       "      <td>...</td>\n",
       "      <td>...</td>\n",
       "      <td>...</td>\n",
       "      <td>...</td>\n",
       "    </tr>\n",
       "    <tr>\n",
       "      <th>1738</th>\n",
       "      <td>1/2 bushel cartons</td>\n",
       "      <td>9/30/16</td>\n",
       "      <td>15.00</td>\n",
       "      <td>15.0</td>\n",
       "      <td>9</td>\n",
       "      <td>30.00</td>\n",
       "    </tr>\n",
       "    <tr>\n",
       "      <th>1739</th>\n",
       "      <td>1/2 bushel cartons</td>\n",
       "      <td>9/30/16</td>\n",
       "      <td>13.75</td>\n",
       "      <td>15.0</td>\n",
       "      <td>9</td>\n",
       "      <td>28.75</td>\n",
       "    </tr>\n",
       "    <tr>\n",
       "      <th>1740</th>\n",
       "      <td>1/2 bushel cartons</td>\n",
       "      <td>9/30/16</td>\n",
       "      <td>10.75</td>\n",
       "      <td>15.0</td>\n",
       "      <td>9</td>\n",
       "      <td>25.75</td>\n",
       "    </tr>\n",
       "    <tr>\n",
       "      <th>1741</th>\n",
       "      <td>1/2 bushel cartons</td>\n",
       "      <td>9/30/16</td>\n",
       "      <td>12.00</td>\n",
       "      <td>12.0</td>\n",
       "      <td>9</td>\n",
       "      <td>24.00</td>\n",
       "    </tr>\n",
       "    <tr>\n",
       "      <th>1742</th>\n",
       "      <td>1/2 bushel cartons</td>\n",
       "      <td>9/30/16</td>\n",
       "      <td>12.00</td>\n",
       "      <td>12.0</td>\n",
       "      <td>9</td>\n",
       "      <td>24.00</td>\n",
       "    </tr>\n",
       "  </tbody>\n",
       "</table>\n",
       "<p>415 rows × 6 columns</p>\n",
       "</div>"
      ],
      "text/plain": [
       "                   Package     Date  Low Price  High Price  Month  \\\n",
       "70    1 1/9 bushel cartons  9/24/16      15.00        15.0      9   \n",
       "71    1 1/9 bushel cartons  9/24/16      18.00        18.0      9   \n",
       "72    1 1/9 bushel cartons  10/1/16      18.00        18.0     10   \n",
       "73    1 1/9 bushel cartons  10/1/16      17.00        17.0     10   \n",
       "74    1 1/9 bushel cartons  10/8/16      15.00        15.0     10   \n",
       "...                    ...      ...        ...         ...    ...   \n",
       "1738    1/2 bushel cartons  9/30/16      15.00        15.0      9   \n",
       "1739    1/2 bushel cartons  9/30/16      13.75        15.0      9   \n",
       "1740    1/2 bushel cartons  9/30/16      10.75        15.0      9   \n",
       "1741    1/2 bushel cartons  9/30/16      12.00        12.0      9   \n",
       "1742    1/2 bushel cartons  9/30/16      12.00        12.0      9   \n",
       "\n",
       "      Average_Price  \n",
       "70            13.50  \n",
       "71            16.20  \n",
       "72            16.20  \n",
       "73            15.30  \n",
       "74            13.50  \n",
       "...             ...  \n",
       "1738          30.00  \n",
       "1739          28.75  \n",
       "1740          25.75  \n",
       "1741          24.00  \n",
       "1742          24.00  \n",
       "\n",
       "[415 rows x 6 columns]"
      ]
     },
     "execution_count": 8,
     "metadata": {},
     "output_type": "execute_result"
    }
   ],
   "source": [
    "pumpkins"
   ]
  },
  {
   "cell_type": "code",
   "execution_count": 9,
   "id": "d3b3eb28",
   "metadata": {},
   "outputs": [
    {
     "data": {
      "image/png": "[encoded data removed]",
      "text/plain": [
       "<Figure size 640x480 with 1 Axes>"
      ]
     },
     "metadata": {},
     "output_type": "display_data"
    }
   ],
   "source": [
    "plt.scatter(pumpkins['Month'], pumpkins['Average_Price'])\n",
    "plt.show()"
   ]
  },
  {
   "cell_type": "code",
   "execution_count": 10,
   "id": "daa423ec",
   "metadata": {},
   "outputs": [
    {
     "data": {
      "text/plain": [
       "Text(0, 0.5, 'Pumpkins Price per month')"
      ]
     },
     "execution_count": 10,
     "metadata": {},
     "output_type": "execute_result"
    },
    {
     "data": {
      "image/png": "[encoded data removed]",
      "text/plain": [
       "<Figure size 640x480 with 1 Axes>"
      ]
     },
     "metadata": {},
     "output_type": "display_data"
    }
   ],
   "source": [
    "pumpkins.groupby(['Month'])['Average_Price'].mean().plot(kind='bar')\n",
    "plt.ylabel('Pumpkins Price per month')"
   ]
  },
  {
   "cell_type": "code",
   "execution_count": 12,
   "id": "155c8da1",
   "metadata": {},
   "outputs": [
    {
     "name": "stderr",
     "output_type": "stream",
     "text": [
      "C:\\Users\\Lommy\\AppData\\Local\\Temp\\ipykernel_10300\\709897846.py:2: UserWarning: Could not infer format, so each element will be parsed individually, falling back to `dateutil`. To ensure parsing is consistent and as-expected, please specify a format.\n",
      "  pumpkins['day_of_year'] = pd.to_datetime(pumpkins['Date']).apply(lambda dt: (dt-datetime(dt.year,1,1)).days)\n",
      "C:\\Users\\Lommy\\AppData\\Local\\Temp\\ipykernel_10300\\709897846.py:2: SettingWithCopyWarning: \n",
      "A value is trying to be set on a copy of a slice from a DataFrame.\n",
      "Try using .loc[row_indexer,col_indexer] = value instead\n",
      "\n",
      "See the caveats in the documentation: https://pandas.pydata.org/pandas-docs/stable/user_guide/indexing.html#returning-a-view-versus-a-copy\n",
      "  pumpkins['day_of_year'] = pd.to_datetime(pumpkins['Date']).apply(lambda dt: (dt-datetime(dt.year,1,1)).days)\n"
     ]
    }
   ],
   "source": [
    "from datetime import datetime\n",
    "pumpkins['day_of_year'] = pd.to_datetime(pumpkins['Date']).apply(lambda dt: (dt-datetime(dt.year,1,1)).days)"
   ]
  },
  {
   "cell_type": "code",
   "execution_count": 22,
   "id": "b4713ba5",
   "metadata": {},
   "outputs": [
    {
     "name": "stdout",
     "output_type": "stream",
     "text": [
      "-0.1491291363427862\n",
      "-0.16690092505934478\n"
     ]
    },
    {
     "name": "stderr",
     "output_type": "stream",
     "text": [
      "C:\\Users\\Lommy\\AppData\\Local\\Temp\\ipykernel_10300\\662825760.py:1: SettingWithCopyWarning: \n",
      "A value is trying to be set on a copy of a slice from a DataFrame\n",
      "\n",
      "See the caveats in the documentation: https://pandas.pydata.org/pandas-docs/stable/user_guide/indexing.html#returning-a-view-versus-a-copy\n",
      "  pumpkins.rename(columns={'Average_Price':'Price'}, inplace=True)\n"
     ]
    }
   ],
   "source": [
    "pumpkins.rename(columns={'Average_Price':'Price'}, inplace=True)\n",
    "print(pumpkins['Month'].corr(pumpkins['Price']))\n",
    "print(pumpkins['day_of_year'].corr(pumpkins['Price']))"
   ]
  },
  {
   "cell_type": "code",
   "execution_count": 37,
   "id": "d090b799",
   "metadata": {},
   "outputs": [
    {
     "name": "stderr",
     "output_type": "stream",
     "text": [
      "C:\\Users\\Lommy\\AppData\\Local\\Temp\\ipykernel_10300\\4163038157.py:2: UserWarning: Could not infer format, so each element will be parsed individually, falling back to `dateutil`. To ensure parsing is consistent and as-expected, please specify a format.\n",
      "  df['DayOfYear'] = pd.to_datetime(df['Date']).apply(lambda dt: (dt-datetime(dt.year, 1, 1)).days)\n"
     ]
    }
   ],
   "source": [
    "df = df[df['Package'].str.contains('bushel', case=True, regex=False)]\n",
    "df['DayOfYear'] = pd.to_datetime(df['Date']).apply(lambda dt: (dt-datetime(dt.year, 1, 1)).days)\n",
    "\n",
    "df['Price'] = (df['Low Price'] + df['High Price'])/2\n",
    "df.loc[df['Package'].str.contains('1 1/9'), 'Price'] = df['Price']/(1 + 1/9)\n",
    "df.loc[df['Package'].str.contains('1/2'), 'Price'] = df['Price']/(1/2)"
   ]
  },
  {
   "cell_type": "code",
   "execution_count": 38,
   "id": "1c90c130",
   "metadata": {},
   "outputs": [
    {
     "data": {
      "text/plain": [
       "array(['PIE TYPE', 'MINIATURE', 'FAIRYTALE', 'MIXED HEIRLOOM VARIETIES'],\n",
       "      dtype=object)"
      ]
     },
     "execution_count": 38,
     "metadata": {},
     "output_type": "execute_result"
    }
   ],
   "source": [
    "df['Variety'].unique()"
   ]
  },
  {
   "cell_type": "code",
   "execution_count": 39,
   "id": "378356a2",
   "metadata": {},
   "outputs": [
    {
     "data": {
      "image/png": "[encoded data removed]",
      "text/plain": [
       "<Figure size 640x480 with 1 Axes>"
      ]
     },
     "metadata": {},
     "output_type": "display_data"
    }
   ],
   "source": [
    "ax = None\n",
    "colors = ['Red', 'Green', 'Blue','Yellow']\n",
    "for i,var in enumerate(df['Variety'].unique()):\n",
    "    df_pump = df[df['Variety'] == var]\n",
    "    ax = df_pump.plot.scatter('DayOfYear','Price', ax=ax, c=colors[i], label=var)"
   ]
  },
  {
   "cell_type": "code",
   "execution_count": 41,
   "id": "69baa669",
   "metadata": {},
   "outputs": [
    {
     "data": {
      "text/plain": [
       "Text(0, 0.5, 'Pumpkin Price per Variety')"
      ]
     },
     "execution_count": 41,
     "metadata": {},
     "output_type": "execute_result"
    },
    {
     "data": {
      "image/png": "[encoded data removed]",
      "text/plain": [
       "<Figure size 640x480 with 1 Axes>"
      ]
     },
     "metadata": {},
     "output_type": "display_data"
    }
   ],
   "source": [
    "df.groupby('Variety')['Price'].mean().plot(kind='bar')\n",
    "plt.ylabel('Pumpkin Price per Variety')"
   ]
  },
  {
   "cell_type": "code",
   "execution_count": 43,
   "id": "24151426",
   "metadata": {},
   "outputs": [
    {
     "data": {
      "text/plain": [
       "<Axes: xlabel='DayOfYear', ylabel='Price'>"
      ]
     },
     "execution_count": 43,
     "metadata": {},
     "output_type": "execute_result"
    },
    {
     "data": {
      "image/png": "[encoded data removed]",
      "text/plain": [
       "<Figure size 640x480 with 1 Axes>"
      ]
     },
     "metadata": {},
     "output_type": "display_data"
    }
   ],
   "source": [
    "pie_pumpkins = df[df['Variety'] == 'PIE TYPE']\n",
    "pie_pumpkins.plot.scatter('DayOfYear', 'Price')"
   ]
  },
  {
   "cell_type": "code",
   "execution_count": 44,
   "id": "c6c7ed82",
   "metadata": {},
   "outputs": [
    {
     "name": "stdout",
     "output_type": "stream",
     "text": [
      "<class 'pandas.core.frame.DataFrame'>\n",
      "Index: 0 entries\n",
      "Data columns (total 29 columns):\n",
      " #   Column           Non-Null Count  Dtype  \n",
      "---  ------           --------------  -----  \n",
      " 0   City Name        0 non-null      object \n",
      " 1   Type             0 non-null      object \n",
      " 2   Package          0 non-null      object \n",
      " 3   Variety          0 non-null      object \n",
      " 4   Sub Variety      0 non-null      object \n",
      " 5   Grade            0 non-null      float64\n",
      " 6   Date             0 non-null      object \n",
      " 7   Low Price        0 non-null      float64\n",
      " 8   High Price       0 non-null      float64\n",
      " 9   Mostly Low       0 non-null      float64\n",
      " 10  Mostly High      0 non-null      float64\n",
      " 11  Origin           0 non-null      object \n",
      " 12  Origin District  0 non-null      object \n",
      " 13  Item Size        0 non-null      object \n",
      " 14  Color            0 non-null      object \n",
      " 15  Environment      0 non-null      float64\n",
      " 16  Unit of Sale     0 non-null      object \n",
      " 17  Quality          0 non-null      float64\n",
      " 18  Condition        0 non-null      float64\n",
      " 19  Appearance       0 non-null      float64\n",
      " 20  Storage          0 non-null      float64\n",
      " 21  Crop             0 non-null      float64\n",
      " 22  Repack           0 non-null      object \n",
      " 23  Trans Mode       0 non-null      float64\n",
      " 24  Unnamed: 24      0 non-null      float64\n",
      " 25  Unnamed: 25      0 non-null      object \n",
      " 26  date_of_year     0 non-null      int64  \n",
      " 27  DayOfYear        0 non-null      int64  \n",
      " 28  Price            0 non-null      float64\n",
      "dtypes: float64(14), int64(2), object(13)\n",
      "memory usage: 0.0+ bytes\n"
     ]
    },
    {
     "name": "stderr",
     "output_type": "stream",
     "text": [
      "C:\\Users\\Lommy\\AppData\\Local\\Temp\\ipykernel_10300\\3144308612.py:1: SettingWithCopyWarning: \n",
      "A value is trying to be set on a copy of a slice from a DataFrame\n",
      "\n",
      "See the caveats in the documentation: https://pandas.pydata.org/pandas-docs/stable/user_guide/indexing.html#returning-a-view-versus-a-copy\n",
      "  pie_pumpkins.dropna(inplace=True)\n"
     ]
    }
   ],
   "source": [
    "pie_pumpkins.dropna(inplace=True)\n",
    "pie_pumpkins.info()"
   ]
  },
  {
   "cell_type": "code",
   "execution_count": null,
   "id": "d4f60924",
   "metadata": {},
   "outputs": [],
   "source": []
  }
 ],
 "metadata": {
  "kernelspec": {
   "display_name": "Python 3 (ipykernel)",
   "language": "python",
   "name": "python3"
  },
  "language_info": {
   "codemirror_mode": {
    "name": "ipython",
    "version": 3
   },
   "file_extension": ".py",
   "mimetype": "text/x-python",
   "name": "python",
   "nbconvert_exporter": "python",
   "pygments_lexer": "ipython3",
   "version": "3.11.5"
  }
 },
 "nbformat": 4,
 "nbformat_minor": 5
}
