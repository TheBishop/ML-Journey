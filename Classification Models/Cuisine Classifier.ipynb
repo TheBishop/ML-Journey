{
 "cells": [
  {
   "cell_type": "code",
   "execution_count": null,
   "id": "fd85c3d4",
   "metadata": {},
   "outputs": [],
   "source": [
    "!pip install smote-variants --ignore-installed"
   ]
  },
  {
   "cell_type": "code",
   "execution_count": 9,
   "id": "64b86f4a",
   "metadata": {},
   "outputs": [
    {
     "ename": "ModuleNotFoundError",
     "evalue": "No module named 'smote_variants'",
     "output_type": "error",
     "traceback": [
      "\u001b[1;31m---------------------------------------------------------------------------\u001b[0m",
      "\u001b[1;31mModuleNotFoundError\u001b[0m                       Traceback (most recent call last)",
      "Cell \u001b[1;32mIn[9], line 5\u001b[0m\n\u001b[0;32m      3\u001b[0m \u001b[38;5;28;01mimport\u001b[39;00m \u001b[38;5;21;01mmatplotlib\u001b[39;00m\u001b[38;5;21;01m.\u001b[39;00m\u001b[38;5;21;01mpyplot\u001b[39;00m \u001b[38;5;28;01mas\u001b[39;00m \u001b[38;5;21;01mplt\u001b[39;00m\n\u001b[0;32m      4\u001b[0m \u001b[38;5;28;01mimport\u001b[39;00m \u001b[38;5;21;01mnumpy\u001b[39;00m \u001b[38;5;28;01mas\u001b[39;00m \u001b[38;5;21;01mnp\u001b[39;00m\n\u001b[1;32m----> 5\u001b[0m \u001b[38;5;28;01mimport\u001b[39;00m \u001b[38;5;21;01msmote_variants\u001b[39;00m \u001b[38;5;28;01mas\u001b[39;00m \u001b[38;5;21;01msv\u001b[39;00m\n",
      "\u001b[1;31mModuleNotFoundError\u001b[0m: No module named 'smote_variants'"
     ]
    }
   ],
   "source": [
    "import pandas as pd\n",
    "import matplotlib as mpl\n",
    "import matplotlib.pyplot as plt\n",
    "import numpy as np\n",
    "import smote_variants as sv"
   ]
  },
  {
   "cell_type": "code",
   "execution_count": null,
   "id": "f5416ad0",
   "metadata": {},
   "outputs": [],
   "source": [
    "df = pd.read_csv('cuisines.csv')\n",
    "df.head()"
   ]
  },
  {
   "cell_type": "code",
   "execution_count": null,
   "id": "05854a4c",
   "metadata": {},
   "outputs": [],
   "source": [
    "df.info()"
   ]
  },
  {
   "cell_type": "code",
   "execution_count": null,
   "id": "f05f5cb5",
   "metadata": {},
   "outputs": [],
   "source": [
    "df.cuisine.value_counts().plot.barh"
   ]
  },
  {
   "cell_type": "code",
   "execution_count": null,
   "id": "48bc4f2e",
   "metadata": {},
   "outputs": [],
   "source": [
    "thai_df = df[df.cuisine == 'thai']\n",
    "japanese_df = df[df.cuisine == 'japanese']\n",
    "chinese_df = df[df.cuisine == 'chinese']\n",
    "indian_df = df[df.cuisine == 'indian']\n",
    "korean_df = df[df.cuisine == 'korean']\n",
    "\n",
    "print(f'thai df': {thai_df.shape})\n",
    "print(f'japanese df': {japanese_df.shape})\n",
    "print(f'chinese df': {chinese_df.shape})\n",
    "print(f'indian df': {indian_df.shape})\n",
    "print(f'korean df': {korean_df.shape})"
   ]
  },
  {
   "cell_type": "code",
   "execution_count": null,
   "id": "b6b0f7f6",
   "metadata": {},
   "outputs": [],
   "source": [
    "def create_ingredients(df):\n",
    "    ingredient_df = df.T.drop(['cuisine','Unnamed: 0']).sum(axis=1).to_frame('value')\n",
    "    ingredient_df = ingredient_df[(ingredient_df.T != 0).any()]\n",
    "    ingredient_df = ingredient_df.sort_values(by='value', ascending=False, inplace=True)\n",
    "    return ingredient_df"
   ]
  },
  {
   "cell_type": "code",
   "execution_count": null,
   "id": "f34a1135",
   "metadata": {},
   "outputs": [],
   "source": [
    "thai_ingredients_df = create_ingredients(thai_df)\n",
    "thai_ingredients_df.head(10).plot.barh()"
   ]
  },
  {
   "cell_type": "code",
   "execution_count": null,
   "id": "18a6c0b7",
   "metadata": {},
   "outputs": [],
   "source": [
    "japanese_ingredients_df = create_ingredients(japanese_df)\n",
    "japanese_ingredients_df.head(10).plot.barh()"
   ]
  },
  {
   "cell_type": "code",
   "execution_count": null,
   "id": "288ae0fb",
   "metadata": {},
   "outputs": [],
   "source": [
    "chinese_ingredients_df = create_ingredients(chinese_df)\n",
    "chinese_ingredients_df.head(10).plot.barh()"
   ]
  },
  {
   "cell_type": "code",
   "execution_count": null,
   "id": "2bd46a58",
   "metadata": {},
   "outputs": [],
   "source": [
    "indian_ingredients_df = create_ingredients(indian_df)\n",
    "indian_ingredients_df.head(10).plot.barh()"
   ]
  },
  {
   "cell_type": "code",
   "execution_count": null,
   "id": "a266427b",
   "metadata": {},
   "outputs": [],
   "source": [
    "korean_ingredients_df = create_ingredients(korean_df)\n",
    "korean_ingredients_df.head(10).plot.barh()"
   ]
  },
  {
   "cell_type": "code",
   "execution_count": null,
   "id": "03e5f360",
   "metadata": {},
   "outputs": [],
   "source": [
    "feature_df = df.drop(['cuisine','Unnamed: 0', 'rice','garlic','ginger'], axis = 1)\n",
    "labels_df = df.cuisine\n",
    "feature_df.head()"
   ]
  },
  {
   "cell_type": "code",
   "execution_count": null,
   "id": "c02be376",
   "metadata": {},
   "outputs": [],
   "source": []
  },
  {
   "cell_type": "code",
   "execution_count": null,
   "id": "daca4a65",
   "metadata": {},
   "outputs": [],
   "source": []
  }
 ],
 "metadata": {
  "kernelspec": {
   "display_name": "Python 3 (ipykernel)",
   "language": "python",
   "name": "python3"
  },
  "language_info": {
   "codemirror_mode": {
    "name": "ipython",
    "version": 3
   },
   "file_extension": ".py",
   "mimetype": "text/x-python",
   "name": "python",
   "nbconvert_exporter": "python",
   "pygments_lexer": "ipython3",
   "version": "3.11.5"
  }
 },
 "nbformat": 4,
 "nbformat_minor": 5
}
