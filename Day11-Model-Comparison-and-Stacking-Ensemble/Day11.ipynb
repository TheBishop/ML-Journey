{
 "cells": [
  {
   "cell_type": "code",
   "execution_count": 2,
   "id": "0fbe24bb",
   "metadata": {},
   "outputs": [],
   "source": [
    "import pandas as pd\n",
    "import matplotlib.pyplot as plt\n",
    "import seaborn as sns\n",
    "from sklearn.linear_model import LogisticRegression\n",
    "from sklearn.model_selection import train_test_split\n",
    "from sklearn.metrics import classification_report, confusion_matrix, accuracy_score\n",
    "from sklearn.ensemble import RandomForestClassifier\n",
    "from sklearn.ensemble import GradientBoostingClassifier\n",
    "from sklearn.tree import DecisionTreeClassifier\n",
    "from sklearn.neighbors import KNeighborsClassifier\n",
    "from sklearn.svm import SVC\n",
    "import xgboost as xgb"
   ]
  },
  {
   "cell_type": "code",
   "execution_count": 3,
   "id": "57315a6a",
   "metadata": {},
   "outputs": [
    {
     "data": {
      "text/html": [
       "<div>\n",
       "<style scoped>\n",
       "    .dataframe tbody tr th:only-of-type {\n",
       "        vertical-align: middle;\n",
       "    }\n",
       "\n",
       "    .dataframe tbody tr th {\n",
       "        vertical-align: top;\n",
       "    }\n",
       "\n",
       "    .dataframe thead th {\n",
       "        text-align: right;\n",
       "    }\n",
       "</style>\n",
       "<table border=\"1\" class=\"dataframe\">\n",
       "  <thead>\n",
       "    <tr style=\"text-align: right;\">\n",
       "      <th></th>\n",
       "      <th>Feature1</th>\n",
       "      <th>Feature2</th>\n",
       "      <th>Feature3</th>\n",
       "      <th>Feature4</th>\n",
       "      <th>Feature5</th>\n",
       "      <th>Target</th>\n",
       "    </tr>\n",
       "  </thead>\n",
       "  <tbody>\n",
       "    <tr>\n",
       "      <th>0</th>\n",
       "      <td>0.496714</td>\n",
       "      <td>6.852355</td>\n",
       "      <td>1.674826</td>\n",
       "      <td>42</td>\n",
       "      <td>1</td>\n",
       "      <td>0</td>\n",
       "    </tr>\n",
       "    <tr>\n",
       "      <th>1</th>\n",
       "      <td>-0.138264</td>\n",
       "      <td>8.818833</td>\n",
       "      <td>1.045678</td>\n",
       "      <td>0</td>\n",
       "      <td>0</td>\n",
       "      <td>0</td>\n",
       "    </tr>\n",
       "    <tr>\n",
       "      <th>2</th>\n",
       "      <td>0.647689</td>\n",
       "      <td>2.202865</td>\n",
       "      <td>6.364302</td>\n",
       "      <td>50</td>\n",
       "      <td>1</td>\n",
       "      <td>1</td>\n",
       "    </tr>\n",
       "    <tr>\n",
       "      <th>3</th>\n",
       "      <td>1.523030</td>\n",
       "      <td>6.125938</td>\n",
       "      <td>7.064757</td>\n",
       "      <td>23</td>\n",
       "      <td>1</td>\n",
       "      <td>1</td>\n",
       "    </tr>\n",
       "    <tr>\n",
       "      <th>4</th>\n",
       "      <td>-0.234153</td>\n",
       "      <td>3.698715</td>\n",
       "      <td>0.315861</td>\n",
       "      <td>98</td>\n",
       "      <td>0</td>\n",
       "      <td>0</td>\n",
       "    </tr>\n",
       "    <tr>\n",
       "      <th>...</th>\n",
       "      <td>...</td>\n",
       "      <td>...</td>\n",
       "      <td>...</td>\n",
       "      <td>...</td>\n",
       "      <td>...</td>\n",
       "      <td>...</td>\n",
       "    </tr>\n",
       "    <tr>\n",
       "      <th>495</th>\n",
       "      <td>0.538910</td>\n",
       "      <td>4.437799</td>\n",
       "      <td>7.374338</td>\n",
       "      <td>45</td>\n",
       "      <td>1</td>\n",
       "      <td>1</td>\n",
       "    </tr>\n",
       "    <tr>\n",
       "      <th>496</th>\n",
       "      <td>-1.037246</td>\n",
       "      <td>8.595373</td>\n",
       "      <td>5.122219</td>\n",
       "      <td>15</td>\n",
       "      <td>1</td>\n",
       "      <td>0</td>\n",
       "    </tr>\n",
       "    <tr>\n",
       "      <th>497</th>\n",
       "      <td>-0.190339</td>\n",
       "      <td>6.281686</td>\n",
       "      <td>6.802278</td>\n",
       "      <td>0</td>\n",
       "      <td>0</td>\n",
       "      <td>0</td>\n",
       "    </tr>\n",
       "    <tr>\n",
       "      <th>498</th>\n",
       "      <td>-0.875618</td>\n",
       "      <td>3.857642</td>\n",
       "      <td>0.416729</td>\n",
       "      <td>62</td>\n",
       "      <td>0</td>\n",
       "      <td>0</td>\n",
       "    </tr>\n",
       "    <tr>\n",
       "      <th>499</th>\n",
       "      <td>-1.382800</td>\n",
       "      <td>6.145166</td>\n",
       "      <td>0.847920</td>\n",
       "      <td>20</td>\n",
       "      <td>1</td>\n",
       "      <td>0</td>\n",
       "    </tr>\n",
       "  </tbody>\n",
       "</table>\n",
       "<p>500 rows × 6 columns</p>\n",
       "</div>"
      ],
      "text/plain": [
       "     Feature1  Feature2  Feature3  Feature4  Feature5  Target\n",
       "0    0.496714  6.852355  1.674826        42         1       0\n",
       "1   -0.138264  8.818833  1.045678         0         0       0\n",
       "2    0.647689  2.202865  6.364302        50         1       1\n",
       "3    1.523030  6.125938  7.064757        23         1       1\n",
       "4   -0.234153  3.698715  0.315861        98         0       0\n",
       "..        ...       ...       ...       ...       ...     ...\n",
       "495  0.538910  4.437799  7.374338        45         1       1\n",
       "496 -1.037246  8.595373  5.122219        15         1       0\n",
       "497 -0.190339  6.281686  6.802278         0         0       0\n",
       "498 -0.875618  3.857642  0.416729        62         0       0\n",
       "499 -1.382800  6.145166  0.847920        20         1       0\n",
       "\n",
       "[500 rows x 6 columns]"
      ]
     },
     "execution_count": 3,
     "metadata": {},
     "output_type": "execute_result"
    }
   ],
   "source": [
    "df = pd.read_csv('day11_model_comparison_and_stacking.csv')\n",
    "df"
   ]
  },
  {
   "cell_type": "code",
   "execution_count": 4,
   "id": "8dfca898",
   "metadata": {},
   "outputs": [
    {
     "name": "stdout",
     "output_type": "stream",
     "text": [
      "<class 'pandas.core.frame.DataFrame'>\n",
      "RangeIndex: 500 entries, 0 to 499\n",
      "Data columns (total 6 columns):\n",
      " #   Column    Non-Null Count  Dtype  \n",
      "---  ------    --------------  -----  \n",
      " 0   Feature1  500 non-null    float64\n",
      " 1   Feature2  500 non-null    float64\n",
      " 2   Feature3  500 non-null    float64\n",
      " 3   Feature4  500 non-null    int64  \n",
      " 4   Feature5  500 non-null    int64  \n",
      " 5   Target    500 non-null    int64  \n",
      "dtypes: float64(3), int64(3)\n",
      "memory usage: 23.6 KB\n"
     ]
    }
   ],
   "source": [
    "df.info()"
   ]
  },
  {
   "cell_type": "code",
   "execution_count": 5,
   "id": "e31260a4",
   "metadata": {},
   "outputs": [
    {
     "data": {
      "text/html": [
       "<div>\n",
       "<style scoped>\n",
       "    .dataframe tbody tr th:only-of-type {\n",
       "        vertical-align: middle;\n",
       "    }\n",
       "\n",
       "    .dataframe tbody tr th {\n",
       "        vertical-align: top;\n",
       "    }\n",
       "\n",
       "    .dataframe thead th {\n",
       "        text-align: right;\n",
       "    }\n",
       "</style>\n",
       "<table border=\"1\" class=\"dataframe\">\n",
       "  <thead>\n",
       "    <tr style=\"text-align: right;\">\n",
       "      <th></th>\n",
       "      <th>Feature1</th>\n",
       "      <th>Feature2</th>\n",
       "      <th>Feature3</th>\n",
       "      <th>Feature4</th>\n",
       "      <th>Feature5</th>\n",
       "      <th>Target</th>\n",
       "    </tr>\n",
       "  </thead>\n",
       "  <tbody>\n",
       "    <tr>\n",
       "      <th>count</th>\n",
       "      <td>500.000000</td>\n",
       "      <td>500.000000</td>\n",
       "      <td>500.000000</td>\n",
       "      <td>500.000000</td>\n",
       "      <td>500.000000</td>\n",
       "      <td>500.000000</td>\n",
       "    </tr>\n",
       "    <tr>\n",
       "      <th>mean</th>\n",
       "      <td>0.006838</td>\n",
       "      <td>5.063652</td>\n",
       "      <td>5.021798</td>\n",
       "      <td>47.344000</td>\n",
       "      <td>0.314000</td>\n",
       "      <td>0.500000</td>\n",
       "    </tr>\n",
       "    <tr>\n",
       "      <th>std</th>\n",
       "      <td>0.981253</td>\n",
       "      <td>1.955994</td>\n",
       "      <td>2.896086</td>\n",
       "      <td>29.547721</td>\n",
       "      <td>0.464581</td>\n",
       "      <td>0.500501</td>\n",
       "    </tr>\n",
       "    <tr>\n",
       "      <th>min</th>\n",
       "      <td>-3.241267</td>\n",
       "      <td>-0.393773</td>\n",
       "      <td>0.049400</td>\n",
       "      <td>0.000000</td>\n",
       "      <td>0.000000</td>\n",
       "      <td>0.000000</td>\n",
       "    </tr>\n",
       "    <tr>\n",
       "      <th>25%</th>\n",
       "      <td>-0.700307</td>\n",
       "      <td>3.809417</td>\n",
       "      <td>2.387711</td>\n",
       "      <td>20.000000</td>\n",
       "      <td>0.000000</td>\n",
       "      <td>0.000000</td>\n",
       "    </tr>\n",
       "    <tr>\n",
       "      <th>50%</th>\n",
       "      <td>0.012797</td>\n",
       "      <td>5.057063</td>\n",
       "      <td>5.108220</td>\n",
       "      <td>46.000000</td>\n",
       "      <td>0.000000</td>\n",
       "      <td>0.500000</td>\n",
       "    </tr>\n",
       "    <tr>\n",
       "      <th>75%</th>\n",
       "      <td>0.636783</td>\n",
       "      <td>6.302485</td>\n",
       "      <td>7.365199</td>\n",
       "      <td>73.000000</td>\n",
       "      <td>1.000000</td>\n",
       "      <td>1.000000</td>\n",
       "    </tr>\n",
       "    <tr>\n",
       "      <th>max</th>\n",
       "      <td>3.852731</td>\n",
       "      <td>10.264764</td>\n",
       "      <td>9.994137</td>\n",
       "      <td>99.000000</td>\n",
       "      <td>1.000000</td>\n",
       "      <td>1.000000</td>\n",
       "    </tr>\n",
       "  </tbody>\n",
       "</table>\n",
       "</div>"
      ],
      "text/plain": [
       "         Feature1    Feature2    Feature3    Feature4    Feature5      Target\n",
       "count  500.000000  500.000000  500.000000  500.000000  500.000000  500.000000\n",
       "mean     0.006838    5.063652    5.021798   47.344000    0.314000    0.500000\n",
       "std      0.981253    1.955994    2.896086   29.547721    0.464581    0.500501\n",
       "min     -3.241267   -0.393773    0.049400    0.000000    0.000000    0.000000\n",
       "25%     -0.700307    3.809417    2.387711   20.000000    0.000000    0.000000\n",
       "50%      0.012797    5.057063    5.108220   46.000000    0.000000    0.500000\n",
       "75%      0.636783    6.302485    7.365199   73.000000    1.000000    1.000000\n",
       "max      3.852731   10.264764    9.994137   99.000000    1.000000    1.000000"
      ]
     },
     "execution_count": 5,
     "metadata": {},
     "output_type": "execute_result"
    }
   ],
   "source": [
    "df.describe()"
   ]
  },
  {
   "cell_type": "code",
   "execution_count": 6,
   "id": "2b75d335",
   "metadata": {},
   "outputs": [
    {
     "data": {
      "text/plain": [
       "Feature1    0\n",
       "Feature2    0\n",
       "Feature3    0\n",
       "Feature4    0\n",
       "Feature5    0\n",
       "Target      0\n",
       "dtype: int64"
      ]
     },
     "execution_count": 6,
     "metadata": {},
     "output_type": "execute_result"
    }
   ],
   "source": [
    "df.isnull().sum()"
   ]
  },
  {
   "cell_type": "code",
   "execution_count": 11,
   "id": "f653d7ea",
   "metadata": {},
   "outputs": [
    {
     "data": {
      "image/png": "[encoded data removed]",
      "text/plain": [
       "<Figure size 1000x600 with 2 Axes>"
      ]
     },
     "metadata": {},
     "output_type": "display_data"
    }
   ],
   "source": [
    "plt.figure(figsize=(10, 6))\n",
    "sns.heatmap(df.corr(), annot=True, cmap='coolwarm')\n",
    "plt.title('Correlation Matrix')\n",
    "plt.show()"
   ]
  },
  {
   "cell_type": "code",
   "execution_count": 12,
   "id": "9f703926",
   "metadata": {},
   "outputs": [],
   "source": [
    "y = df['Target']\n",
    "X = df.drop(columns='Target')"
   ]
  },
  {
   "cell_type": "code",
   "execution_count": 13,
   "id": "6555fbe8",
   "metadata": {},
   "outputs": [],
   "source": [
    "X_train, X_test, y_train, y_test = train_test_split(X, y, test_size=0.2, random_state=42)"
   ]
  },
  {
   "cell_type": "code",
   "execution_count": 14,
   "id": "a7b73800",
   "metadata": {},
   "outputs": [],
   "source": [
    "#Logistic Regression\n",
    "lr_model = LogisticRegression()\n",
    "lr_model.fit(X_train, y_train)\n",
    "lr_pred = lr_model.predict(X_test)"
   ]
  },
  {
   "cell_type": "code",
   "execution_count": 16,
   "id": "cdbc3ee0",
   "metadata": {},
   "outputs": [
    {
     "name": "stdout",
     "output_type": "stream",
     "text": [
      "Logistic Regression Results:\n",
      "[[45  4]\n",
      " [ 5 46]]\n",
      "0.91\n",
      "              precision    recall  f1-score   support\n",
      "\n",
      "           0       0.90      0.92      0.91        49\n",
      "           1       0.92      0.90      0.91        51\n",
      "\n",
      "    accuracy                           0.91       100\n",
      "   macro avg       0.91      0.91      0.91       100\n",
      "weighted avg       0.91      0.91      0.91       100\n",
      "\n"
     ]
    }
   ],
   "source": [
    "print('Logistic Regression Results:')\n",
    "print(confusion_matrix(y_test, lr_pred))\n",
    "print(accuracy_score(y_test, lr_pred))\n",
    "print(classification_report(y_test, lr_pred))"
   ]
  },
  {
   "cell_type": "code",
   "execution_count": 17,
   "id": "a08a91a4",
   "metadata": {},
   "outputs": [],
   "source": [
    "#Decision Tree\n",
    "dt_model = DecisionTreeClassifier()\n",
    "dt_model.fit(X_train, y_train)\n",
    "dt_pred = lr_model.predict(X_test)"
   ]
  },
  {
   "cell_type": "code",
   "execution_count": 18,
   "id": "66e0c428",
   "metadata": {},
   "outputs": [
    {
     "name": "stdout",
     "output_type": "stream",
     "text": [
      "Decision Tree Results:\n",
      "[[45  4]\n",
      " [ 5 46]]\n",
      "0.91\n",
      "              precision    recall  f1-score   support\n",
      "\n",
      "           0       0.90      0.92      0.91        49\n",
      "           1       0.92      0.90      0.91        51\n",
      "\n",
      "    accuracy                           0.91       100\n",
      "   macro avg       0.91      0.91      0.91       100\n",
      "weighted avg       0.91      0.91      0.91       100\n",
      "\n"
     ]
    }
   ],
   "source": [
    "print('Decision Tree Results:')\n",
    "print(confusion_matrix(y_test, dt_pred))\n",
    "print(accuracy_score(y_test, dt_pred))\n",
    "print(classification_report(y_test, dt_pred))"
   ]
  },
  {
   "cell_type": "code",
   "execution_count": null,
   "id": "d2cbd723",
   "metadata": {},
   "outputs": [],
   "source": []
  }
 ],
 "metadata": {
  "kernelspec": {
   "display_name": "Python 3 (ipykernel)",
   "language": "python",
   "name": "python3"
  },
  "language_info": {
   "codemirror_mode": {
    "name": "ipython",
    "version": 3
   },
   "file_extension": ".py",
   "mimetype": "text/x-python",
   "name": "python",
   "nbconvert_exporter": "python",
   "pygments_lexer": "ipython3",
   "version": "3.11.5"
  }
 },
 "nbformat": 4,
 "nbformat_minor": 5
}
