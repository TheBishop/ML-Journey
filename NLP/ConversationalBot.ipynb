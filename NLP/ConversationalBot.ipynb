{
 "cells": [
  {
   "cell_type": "code",
   "execution_count": 1,
   "id": "cdc03870-c93c-48a1-bd80-b1b287e29f2b",
   "metadata": {},
   "outputs": [],
   "source": [
    "import random"
   ]
  },
  {
   "cell_type": "code",
   "execution_count": 2,
   "id": "1d66a3fb-ad84-498c-b946-ac2d54c5a576",
   "metadata": {},
   "outputs": [],
   "source": [
    "random_responses = [\"That is quite interesting, please tell me more.\",\n",
    "                    \"I see. Do go on.\",\n",
    "                    \"Why do you say that?\",\n",
    "                    \"Funny weather we've been having, isn't it?\",\n",
    "                    \"Let's change the subject.\",\n",
    "                    \"Did you catch the game last night?\"]"
   ]
  },
  {
   "cell_type": "code",
   "execution_count": 3,
   "id": "aa1365d5-ea60-4509-aca1-d4d053e7c5f8",
   "metadata": {},
   "outputs": [
    {
     "name": "stdout",
     "output_type": "stream",
     "text": [
      "HI, I am Melvin, your robot friend\n",
      "If you want to end a conversation, type \"Bye\"\n",
      "After typing each answer, press enter\n",
      "How are you doing\n"
     ]
    }
   ],
   "source": [
    "print('HI, I am Melvin, your robot friend')\n",
    "print('If you want to end a conversation, type \"Bye\"')\n",
    "print('After typing each answer, press enter')\n",
    "print('How are you doing')"
   ]
  },
  {
   "cell_type": "code",
   "execution_count": 4,
   "id": "bea2b5f8-27ae-4b35-843b-c0bc756eb8a4",
   "metadata": {},
   "outputs": [
    {
     "name": "stdin",
     "output_type": "stream",
     "text": [
      ">  bye\n"
     ]
    },
    {
     "name": "stdout",
     "output_type": "stream",
     "text": [
      "It was nice talking to you. Bye!\n"
     ]
    }
   ],
   "source": [
    "while True:\n",
    "    user_input = input('> ')\n",
    "    if user_input.lower() == 'bye':\n",
    "        break\n",
    "    else:\n",
    "        response = random.choices(random_responses)[0]\n",
    "        print(response)\n",
    "\n",
    "print('It was nice talking to you. Bye!')"
   ]
  },
  {
   "cell_type": "code",
   "execution_count": 5,
   "id": "e6bdd3b4-c792-4873-b453-c1d10d54be0f",
   "metadata": {},
   "outputs": [],
   "source": [
    "from textblob import TextBlob\n",
    "from textblob.np_extractors import ConllExtractor\n",
    "extractor = ConllExtractor()"
   ]
  },
  {
   "cell_type": "code",
   "execution_count": 6,
   "id": "f2f834ea-add9-49c6-b7b1-92849eb13f5e",
   "metadata": {},
   "outputs": [
    {
     "name": "stdin",
     "output_type": "stream",
     "text": [
      ">:  she is a good girl\n"
     ]
    },
    {
     "data": {
      "text/plain": [
       "WordList(['good girl'])"
      ]
     },
     "execution_count": 6,
     "metadata": {},
     "output_type": "execute_result"
    }
   ],
   "source": [
    "user_input = input('>: ')\n",
    "user_input_blob = TextBlob(user_input, np_extractor=extractor)\n",
    "np = user_input_blob.noun_phrases\n",
    "np"
   ]
  },
  {
   "cell_type": "code",
   "execution_count": 7,
   "id": "fdca305a-af3a-48aa-9aed-806f70743b2b",
   "metadata": {},
   "outputs": [],
   "source": [
    "if user_input_blob.polarity <= -0.5:\n",
    "    response = 'Oh dear, that sounds bad'\n",
    "elif user_input_blob.polarity <= 0:\n",
    "    response = \"Hm, that's not great\"\n",
    "elif user_input_blob.polarity <= 0.5:\n",
    "    response = 'Well, that sounds positive'\n",
    "elif user_input_blob.polarity <= 0:\n",
    "    response = \"That sounds great\""
   ]
  },
  {
   "cell_type": "code",
   "execution_count": null,
   "id": "d9a25eac-58cd-415a-b42e-a7b4b5ec05ce",
   "metadata": {},
   "outputs": [],
   "source": []
  },
  {
   "cell_type": "code",
   "execution_count": 12,
   "id": "23607961-93d8-4493-b9e8-733afc9bf35e",
   "metadata": {},
   "outputs": [],
   "source": [
    "def melvin():\n",
    "    \n",
    "    print('HI, I am Melvin, your robot friend')\n",
    "    print('If you want to end a conversation, type \"Bye\"')\n",
    "    print('After typing each answer, press enter')\n",
    "    print('How are you doing')\n",
    "    \n",
    "\n",
    "    while True:\n",
    "        user_input = input('> ')\n",
    "        user_input_text = TextBlob(user_input, np_extractor=extractor)\n",
    "        user_input_text.noun_phrases\n",
    "    \n",
    "        if user_input_text.polarity <= -0.5:\n",
    "            response = 'Oh dear, that sounds bad'\n",
    "        elif user_input_text.polarity <= 0:\n",
    "            response = \"Hm, that's not great\"\n",
    "        elif user_input_text.polarity <= 0.5:\n",
    "            response = 'Well, that sounds positive'\n",
    "        elif user_input_text.polarity <= 0:\n",
    "            response = \"That sounds great\"\n",
    "    \n",
    "        \n",
    "        if user_input.lower() == 'bye':\n",
    "            break\n",
    "        else:\n",
    "            responses = random.choices(random_responses)[0]\n",
    "            print(response + '.' + ' ' + responses)\n",
    "            \n",
    "    print('It was nice talking to you. Bye!')"
   ]
  },
  {
   "cell_type": "code",
   "execution_count": null,
   "id": "f19959f7-6d71-4761-b52c-35135b6c7e15",
   "metadata": {},
   "outputs": [
    {
     "name": "stdout",
     "output_type": "stream",
     "text": [
      "HI, I am Melvin, your robot friend\n",
      "If you want to end a conversation, type \"Bye\"\n",
      "After typing each answer, press enter\n",
      "How are you doing\n"
     ]
    },
    {
     "name": "stdin",
     "output_type": "stream",
     "text": [
      ">  Hello. I am fine. How are you doing as well?\n"
     ]
    },
    {
     "name": "stdout",
     "output_type": "stream",
     "text": [
      "Well, that sounds positive. I see. Do go on.\n"
     ]
    },
    {
     "name": "stdin",
     "output_type": "stream",
     "text": [
      ">  You haven't answered my question\n"
     ]
    },
    {
     "name": "stdout",
     "output_type": "stream",
     "text": [
      "Hm, that's not great. That is quite interesting, please tell me more.\n"
     ]
    }
   ],
   "source": [
    "melvin()"
   ]
  },
  {
   "cell_type": "code",
   "execution_count": null,
   "id": "33d99f41-e055-45a7-9f2a-ee7112c23c0a",
   "metadata": {},
   "outputs": [],
   "source": []
  }
 ],
 "metadata": {
  "kernelspec": {
   "display_name": "Python 3 (ipykernel)",
   "language": "python",
   "name": "python3"
  },
  "language_info": {
   "codemirror_mode": {
    "name": "ipython",
    "version": 3
   },
   "file_extension": ".py",
   "mimetype": "text/x-python",
   "name": "python",
   "nbconvert_exporter": "python",
   "pygments_lexer": "ipython3",
   "version": "3.11.13"
  }
 },
 "nbformat": 4,
 "nbformat_minor": 5
}
