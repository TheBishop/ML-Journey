{
 "cells": [
  {
   "cell_type": "code",
   "execution_count": 4,
   "id": "cdc03870-c93c-48a1-bd80-b1b287e29f2b",
   "metadata": {},
   "outputs": [],
   "source": [
    "import random"
   ]
  },
  {
   "cell_type": "code",
   "execution_count": 5,
   "id": "1d66a3fb-ad84-498c-b946-ac2d54c5a576",
   "metadata": {},
   "outputs": [],
   "source": [
    "random_responses = [\"That is quite interesting, please tell me more.\",\n",
    "                    \"I see. Do go on.\",\n",
    "                    \"Why do you say that?\",\n",
    "                    \"Funny weather we've been having, isn't it?\",\n",
    "                    \"Let's change the subject.\",\n",
    "                    \"Did you catch the game last night?\"]"
   ]
  },
  {
   "cell_type": "code",
   "execution_count": 7,
   "id": "aa1365d5-ea60-4509-aca1-d4d053e7c5f8",
   "metadata": {},
   "outputs": [
    {
     "name": "stdout",
     "output_type": "stream",
     "text": [
      "HI, I am Melvin, your robot friend\n",
      "If you want to end a conversation, type \"Bye\"\n",
      "After typing each answer, press enter\n",
      "How are you doing\n"
     ]
    }
   ],
   "source": [
    "print('HI, I am Melvin, your robot friend')\n",
    "print('If you want to end a conversation, type \"Bye\"')\n",
    "print('After typing each answer, press enter')\n",
    "print('How are you doing')"
   ]
  },
  {
   "cell_type": "code",
   "execution_count": 9,
   "id": "bea2b5f8-27ae-4b35-843b-c0bc756eb8a4",
   "metadata": {},
   "outputs": [
    {
     "name": "stdin",
     "output_type": "stream",
     "text": [
      ">  HI\n"
     ]
    },
    {
     "name": "stdout",
     "output_type": "stream",
     "text": [
      "Why do you say that?\n"
     ]
    },
    {
     "name": "stdin",
     "output_type": "stream",
     "text": [
      ">  what else should I say?\n"
     ]
    },
    {
     "name": "stdout",
     "output_type": "stream",
     "text": [
      "Why do you say that?\n"
     ]
    },
    {
     "name": "stdin",
     "output_type": "stream",
     "text": [
      ">  why do you keep asking that?\n"
     ]
    },
    {
     "name": "stdout",
     "output_type": "stream",
     "text": [
      "Funny weather we've been having, isn't it?\n"
     ]
    },
    {
     "name": "stdin",
     "output_type": "stream",
     "text": [
      ">  you're changing the topic\n"
     ]
    },
    {
     "name": "stdout",
     "output_type": "stream",
     "text": [
      "Funny weather we've been having, isn't it?\n"
     ]
    },
    {
     "name": "stdin",
     "output_type": "stream",
     "text": [
      ">  you're changing the topic\n"
     ]
    },
    {
     "name": "stdout",
     "output_type": "stream",
     "text": [
      "Let's change the subject.\n"
     ]
    },
    {
     "name": "stdin",
     "output_type": "stream",
     "text": [
      ">  really?\n"
     ]
    },
    {
     "name": "stdout",
     "output_type": "stream",
     "text": [
      "Let's change the subject.\n"
     ]
    },
    {
     "name": "stdin",
     "output_type": "stream",
     "text": [
      ">  sure\n"
     ]
    },
    {
     "name": "stdout",
     "output_type": "stream",
     "text": [
      "Funny weather we've been having, isn't it?\n"
     ]
    },
    {
     "name": "stdin",
     "output_type": "stream",
     "text": [
      ">  for real?\n"
     ]
    },
    {
     "name": "stdout",
     "output_type": "stream",
     "text": [
      "Did you catch the game last night?\n"
     ]
    },
    {
     "name": "stdin",
     "output_type": "stream",
     "text": [
      ">  I did!\n"
     ]
    },
    {
     "name": "stdout",
     "output_type": "stream",
     "text": [
      "I see. Do go on.\n"
     ]
    },
    {
     "name": "stdin",
     "output_type": "stream",
     "text": [
      ">  Nah\n"
     ]
    },
    {
     "name": "stdout",
     "output_type": "stream",
     "text": [
      "That is quite interesting, please tell me more.\n"
     ]
    },
    {
     "name": "stdin",
     "output_type": "stream",
     "text": [
      ">  bye\n"
     ]
    },
    {
     "name": "stdout",
     "output_type": "stream",
     "text": [
      "It was nice talking to you. Bye!\n"
     ]
    }
   ],
   "source": [
    "while True:\n",
    "    user_input = input('> ')\n",
    "    if user_input.lower() == 'bye':\n",
    "        break\n",
    "    else:\n",
    "        print(random.choices(random_responses)[0])\n",
    "\n",
    "print('It was nice talking to you. Bye!')"
   ]
  },
  {
   "cell_type": "code",
   "execution_count": null,
   "id": "e6bdd3b4-c792-4873-b453-c1d10d54be0f",
   "metadata": {},
   "outputs": [],
   "source": []
  },
  {
   "cell_type": "code",
   "execution_count": null,
   "id": "f2f834ea-add9-49c6-b7b1-92849eb13f5e",
   "metadata": {},
   "outputs": [],
   "source": []
  }
 ],
 "metadata": {
  "kernelspec": {
   "display_name": "Python 3 (ipykernel)",
   "language": "python",
   "name": "python3"
  },
  "language_info": {
   "codemirror_mode": {
    "name": "ipython",
    "version": 3
   },
   "file_extension": ".py",
   "mimetype": "text/x-python",
   "name": "python",
   "nbconvert_exporter": "python",
   "pygments_lexer": "ipython3",
   "version": "3.11.5"
  }
 },
 "nbformat": 4,
 "nbformat_minor": 5
}
